{
  "cells": [
    {
      "cell_type": "markdown",
      "metadata": {
        "id": "view-in-github",
        "colab_type": "text"
      },
      "source": [
        "<a href=\"https://colab.research.google.com/github/ssh1419/nlp-practice/blob/main/LSTM_pytorch.ipynb\" target=\"_parent\"><img src=\"https://colab.research.google.com/assets/colab-badge.svg\" alt=\"Open In Colab\"/></a>"
      ]
    },
    {
      "cell_type": "code",
      "execution_count": 2,
      "metadata": {
        "id": "QSy4S6qo78FA"
      },
      "outputs": [],
      "source": [
        "import numpy as np\n",
        "import torch\n",
        "import torch.nn as nn\n",
        "import torch.optim as optim\n"
      ]
    },
    {
      "cell_type": "code",
      "source": [
        "sentences = [\"i like dog\", \"i love coffee\", \"i hate milk\", \"you like cat\", \"you love milk\", \"you hate coffee\"]\n",
        "dtype = torch.float"
      ],
      "metadata": {
        "id": "bRLxYQyc8fEc"
      },
      "execution_count": 3,
      "outputs": []
    },
    {
      "cell_type": "code",
      "source": [
        "\"\"\"\n",
        "Word Processing\n",
        "\"\"\"\n",
        "\n",
        "# split sentences into words and remove duplicates\n",
        "word_list = list(set(\" \".join(sentences).split()))\n",
        "\n",
        "# make the list as a dictionary\n",
        "word_dict = {w: i for i, w in enumerate(word_list)}\n",
        "\n",
        "# Switch the number and words\n",
        "number_dict = {i: w for i, w in enumerate(word_list)}\n",
        "\n",
        "n_class = len(word_dict)\n"
      ],
      "metadata": {
        "id": "7sDcnm7a8h9r"
      },
      "execution_count": 8,
      "outputs": []
    },
    {
      "cell_type": "code",
      "source": [
        "\"\"\"\n",
        "TextRNN Parameter\n",
        "\"\"\"\n",
        "batch_size = len(sentences)\n",
        "n_step = 2  # the length of sentence -1\n",
        "n_hidden = 5  # hidden layer size\n",
        "\n",
        "def make_batch(sentences):\n",
        "  input_batch = []\n",
        "  target_batch = []\n",
        "\n",
        "  for sen in sentences:\n",
        "    word = sen.split()\n",
        "    input = [word_dict[n] for n in word[:-1]]\n",
        "    target = word_dict[word[-1]]\n",
        "\n",
        "    input_batch.append(np.eye(n_class)[input])  # One-Hot Encoding\n",
        "    target_batch.append(target)\n",
        "  \n",
        "  return input_batch, target_batch\n",
        "\n",
        "\n",
        "input_batch, target_batch = make_batch(sentences)\n",
        "\n",
        "\n",
        "input_batch = torch.tensor(input_batch, dtype=torch.float32, requires_grad=True)\n",
        "\n",
        "\n",
        "target_batch = torch.tensor(target_batch, dtype=torch.int64)"
      ],
      "metadata": {
        "id": "yX5KXHAs9ZFP"
      },
      "execution_count": 9,
      "outputs": []
    },
    {
      "cell_type": "code",
      "source": [
        "\"\"\"\n",
        "TextLSTM\n",
        "\"\"\"\n",
        "class TextLSTM(nn.Module):\n",
        "  def __init__(self):\n",
        "    super(TextLSTM, self).__init__()\n",
        "\n",
        "    self.lstm = nn.LSTM(input_size=n_class, hidden_size=n_hidden, dropout=0.3)\n",
        "    self.W = nn.Parameter(torch.randn([n_hidden, n_class]).type(dtype))\n",
        "    self.b = nn.Parameter(torch.randn([n_class]).type(dtype))\n",
        "    self.Softmax = nn.Softmax(dim=1)\n",
        "\n",
        "  def forward(self, hidden_and_cell, X):\n",
        "    X = X.transpose(0, 1)\n",
        "    outputs, hidden = self.lstm(X, hidden_and_cell)\n",
        "    outputs = outputs[-1]  # 최종 예측 Hidden Layer\n",
        "    model = torch.mm(outputs, self.W) + self.b  # 최종 예측 최종 출력 층\n",
        "    return model"
      ],
      "metadata": {
        "id": "L4RegPqs-TMx"
      },
      "execution_count": null,
      "outputs": []
    },
    {
      "cell_type": "code",
      "source": [
        "\n",
        "\"\"\"\n",
        "Training\n",
        "\"\"\"\n",
        "model = TextLSTM()\n",
        "criterion = nn.CrossEntropyLoss()\n",
        "optimizer = optim.Adam(model.parameters(), lr=0.01)\n",
        "\n",
        "for epoch in range(500):\n",
        "  hidden = torch.zeros(1, batch_size, n_hidden, requires_grad=True)\n",
        "  cell = torch.zeros(1, batch_size, n_hidden, requires_grad=True)\n",
        "  output = model((hidden, cell), input_batch)\n",
        "  loss = criterion(output, target_batch)\n",
        "\n",
        "  if (epoch + 1) % 100 == 0:\n",
        "    print('Epoch:', '%04d' % (epoch + 1), 'cost =', '{:.6f}'.format(loss))\n",
        "  \n",
        "  optimizer.zero_grad()\n",
        "  loss.backward()\n",
        "  optimizer.step()\n",
        "\n",
        "input = [sen.split()[:2] for sen in sentences]\n",
        "\n",
        "hidden = torch.zeros(1, batch_size, n_hidden, requires_grad=True)\n",
        "cell = torch.zeros(1, batch_size, n_hidden, requires_grad=True)\n",
        "predict = model((hidden, cell), input_batch).data.max(1, keepdim=True)[1]\n",
        "print([sen.split()[:2] for sen in sentences], '->', [number_dict[n.item()] for n in predict.squeeze()])"
      ],
      "metadata": {
        "id": "EAfVIIX5_jMo"
      },
      "execution_count": null,
      "outputs": []
    }
  ],
  "metadata": {
    "colab": {
      "name": "LSTM-pytorch.ipynb",
      "provenance": [],
      "authorship_tag": "ABX9TyP/CtWJmJJcQB7o/tgdsJM2",
      "include_colab_link": true
    },
    "kernelspec": {
      "display_name": "Python 3",
      "name": "python3"
    },
    "language_info": {
      "name": "python"
    }
  },
  "nbformat": 4,
  "nbformat_minor": 0
}