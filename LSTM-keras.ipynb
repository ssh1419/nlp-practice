{
  "cells": [
    {
      "cell_type": "code",
      "execution_count": 1,
      "id": "c12ede7a",
      "metadata": {
        "id": "c12ede7a"
      },
      "outputs": [],
      "source": [
        "from numpy import array\n",
        "from keras.models import Sequential\n",
        "from keras.layers import Dense, LSTM"
      ]
    },
    {
      "cell_type": "code",
      "execution_count": 2,
      "id": "4cb798f5",
      "metadata": {
        "id": "4cb798f5"
      },
      "outputs": [],
      "source": [
        "x = array([[1,2,3], [2,3,4], [3,4,5], [4,5,6]])\n",
        "y = array([4,5,6,7])"
      ]
    },
    {
      "cell_type": "code",
      "execution_count": 3,
      "id": "92d6df29",
      "metadata": {
        "id": "92d6df29",
        "outputId": "538ad6ca-3716-41a6-cbca-56b39885531a",
        "colab": {
          "base_uri": "https://localhost:8080/"
        }
      },
      "outputs": [
        {
          "output_type": "stream",
          "name": "stdout",
          "text": [
            "x shape :  (4, 3)\n",
            "y shape :  (4,)\n"
          ]
        }
      ],
      "source": [
        "print('x shape : ', x.shape) \n",
        "print('y shape : ', y.shape)"
      ]
    },
    {
      "cell_type": "code",
      "execution_count": 4,
      "id": "9f7b115c",
      "metadata": {
        "id": "9f7b115c"
      },
      "outputs": [],
      "source": [
        "model = Sequential()\n",
        "model.add(LSTM(10, activation = 'relu', input_shape=(3,1)))\n",
        "\n",
        "model.add(Dense(5))\n",
        "model.add(Dense(1))"
      ]
    },
    {
      "cell_type": "code",
      "execution_count": null,
      "id": "fc1b2e31",
      "metadata": {
        "id": "fc1b2e31"
      },
      "outputs": [],
      "source": [
        ""
      ]
    },
    {
      "cell_type": "code",
      "execution_count": null,
      "id": "516dddde",
      "metadata": {
        "id": "516dddde"
      },
      "outputs": [],
      "source": [
        ""
      ]
    }
  ],
  "metadata": {
    "kernelspec": {
      "display_name": "Python 3 (ipykernel)",
      "language": "python",
      "name": "python3"
    },
    "language_info": {
      "codemirror_mode": {
        "name": "ipython",
        "version": 3
      },
      "file_extension": ".py",
      "mimetype": "text/x-python",
      "name": "python",
      "nbconvert_exporter": "python",
      "pygments_lexer": "ipython3",
      "version": "3.7.0"
    },
    "colab": {
      "name": "LSTM-keras.ipynb",
      "provenance": []
    }
  },
  "nbformat": 4,
  "nbformat_minor": 5
}