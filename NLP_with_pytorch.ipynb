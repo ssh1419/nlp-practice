{
  "nbformat": 4,
  "nbformat_minor": 0,
  "metadata": {
    "colab": {
      "name": "NLP-with-pytorch.ipynb",
      "provenance": [],
      "authorship_tag": "ABX9TyN/7GXXishP/ZQgUiERJf28",
      "include_colab_link": true
    },
    "kernelspec": {
      "name": "python3",
      "display_name": "Python 3"
    },
    "language_info": {
      "name": "python"
    }
  },
  "cells": [
    {
      "cell_type": "markdown",
      "metadata": {
        "id": "view-in-github",
        "colab_type": "text"
      },
      "source": [
        "<a href=\"https://colab.research.google.com/github/ssh1419/nlp-practice/blob/main/NLP_with_pytorch.ipynb\" target=\"_parent\"><img src=\"https://colab.research.google.com/assets/colab-badge.svg\" alt=\"Open In Colab\"/></a>"
      ]
    },
    {
      "cell_type": "code",
      "execution_count": 2,
      "metadata": {
        "id": "tEl_TqGkLmYg"
      },
      "outputs": [],
      "source": [
        "import torch\n",
        "import torch.nn as nn\n",
        "\n",
        "class Perceptron(nn.Module):\n",
        "  \n",
        "  def __init__(self, input_dim):\n",
        "\n",
        "    super(Perceptron, self).__init__()\n",
        "    self.fc1 = nn.Linear(input_dim, 1)\n",
        "\n",
        "  def forward(self, x_in):\n",
        "\n",
        "    return torch.sigmoid(self.fc1(x_in)).squeeze()"
      ]
    },
    {
      "cell_type": "code",
      "source": [
        "\"\"\"\n",
        "The sigmoid is one of the earliest used activation functions in neural network history.\n",
        "It takes any real value and squashes it into the range between 0 and 1.\n",
        "\"\"\"\n",
        "\n",
        "\"\"\"\n",
        "Notice that tanh, like the sigmoid, is also a “squashing” function, \n",
        "except that it maps the set of real values from (–∞, +∞) to the range [-1, +1].\n",
        "\"\"\"\n"
      ],
      "metadata": {
        "id": "_dxDetFtMLSK"
      },
      "execution_count": null,
      "outputs": []
    }
  ]
}