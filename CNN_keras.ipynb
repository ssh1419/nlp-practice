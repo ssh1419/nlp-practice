{
  "nbformat": 4,
  "nbformat_minor": 0,
  "metadata": {
    "colab": {
      "name": "CNN-keras.ipynb",
      "provenance": [],
      "authorship_tag": "ABX9TyPdIVMtTUTnhtMKmIpT82b/",
      "include_colab_link": true
    },
    "kernelspec": {
      "name": "python3",
      "display_name": "Python 3"
    },
    "language_info": {
      "name": "python"
    }
  },
  "cells": [
    {
      "cell_type": "markdown",
      "metadata": {
        "id": "view-in-github",
        "colab_type": "text"
      },
      "source": [
        "<a href=\"https://colab.research.google.com/github/ssh1419/nlp-practice/blob/main/CNN_keras.ipynb\" target=\"_parent\"><img src=\"https://colab.research.google.com/assets/colab-badge.svg\" alt=\"Open In Colab\"/></a>"
      ]
    },
    {
      "cell_type": "code",
      "execution_count": 1,
      "metadata": {
        "colab": {
          "base_uri": "https://localhost:8080/"
        },
        "id": "mr4Eor4dSR0S",
        "outputId": "43215a3a-a53c-4eda-e1bc-65109533d1b9"
      },
      "outputs": [
        {
          "output_type": "stream",
          "name": "stdout",
          "text": [
            "Model: \"sequential\"\n",
            "_________________________________________________________________\n",
            " Layer (type)                Output Shape              Param #   \n",
            "=================================================================\n",
            " conv2d (Conv2D)             (None, 28, 28, 7)         35        \n",
            "                                                                 \n",
            " flatten (Flatten)           (None, 5488)              0         \n",
            "                                                                 \n",
            " dense (Dense)               (None, 10)                54890     \n",
            "                                                                 \n",
            " dense_1 (Dense)             (None, 10)                110       \n",
            "                                                                 \n",
            "=================================================================\n",
            "Total params: 55,035\n",
            "Trainable params: 55,035\n",
            "Non-trainable params: 0\n",
            "_________________________________________________________________\n"
          ]
        }
      ],
      "source": [
        "from keras.models import Sequential\n",
        "from keras.layers import Flatten, Dense\n",
        " \n",
        "filter_size = 32\n",
        "kernel_size = (3,3)\n",
        " \n",
        "from keras.layers import Conv2D, MaxPool2D\n",
        "model = Sequential()\n",
        "model.add(Conv2D(7, (2,2), padding='same', input_shape=(28,28,1)))\n",
        "model.add(Flatten())\n",
        "model.add(Dense(10))\n",
        "model.add(Dense(10))\n",
        " \n",
        "model.summary()\n"
      ]
    },
    {
      "cell_type": "code",
      "source": [
        ""
      ],
      "metadata": {
        "id": "5PXQVDFHSdRE"
      },
      "execution_count": null,
      "outputs": []
    }
  ]
}